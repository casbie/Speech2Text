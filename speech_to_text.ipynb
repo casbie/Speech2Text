{
 "cells": [
  {
   "cell_type": "code",
   "execution_count": 6,
   "metadata": {},
   "outputs": [],
   "source": [
    "from google.cloud import speech\n",
    "from google.cloud.speech import enums\n",
    "from google.cloud.speech import types\n",
    "\n",
    "client = speech.SpeechClient()\n",
    "\n",
    "uri = 'gs://speech2text_nlp/N2_tango_13.wav'\n",
    "audio = types.RecognitionAudio(uri=uri)\n",
    "\n",
    "config = types.RecognitionConfig(\n",
    "    encoding=enums.RecognitionConfig.AudioEncoding.LINEAR16,\n",
    "    sample_rate_hertz=44100,\n",
    "    language_code='ja-JP',\n",
    ")"
   ]
  },
  {
   "cell_type": "code",
   "execution_count": 7,
   "metadata": {},
   "outputs": [],
   "source": [
    "operation = client.long_running_recognize(config, audio)\n",
    "response = operation.result(timeout=90)"
   ]
  },
  {
   "cell_type": "code",
   "execution_count": 5,
   "metadata": {},
   "outputs": [
    {
     "name": "stdout",
     "output_type": "stream",
     "text": [
      "Transcript: 来年東京に引っ越すことになったんだよでも東京の家賃は郊外に比べて高いよそうだよねだから不動産屋のアドバイスを聞きたくて電話したんだよお金をかけたくないならシェアハウスはどうトイレや浴室は共同だけど都心のマンションで一人暮らしが憧れなんだけどなー池袋とかどうかな池袋なら安くても好きな名前は覚悟しなきゃ借りられないよ噂で聞いた通り高いねでもちょうど今渋谷でいい物件があるよ光熱費込みで5万円くらい渋谷にしては安いね床にヒビが入ってたり幽霊が住んでたりしないよね明日一度見に行ってからまた連絡するよ\n",
      "Confidence: 0.9571875929832458\n"
     ]
    }
   ],
   "source": [
    "for result in response.results:\n",
    "    # The first alternative is the most likely one for this portion.\n",
    "    print(u'Transcript: {}'.format(result.alternatives[0].transcript))\n",
    "    print('Confidence: {}'.format(result.alternatives[0].confidence))"
   ]
  },
  {
   "cell_type": "code",
   "execution_count": 8,
   "metadata": {},
   "outputs": [
    {
     "name": "stdout",
     "output_type": "stream",
     "text": [
      "Transcript: 不平等\n",
      "Confidence: 0.9614928364753723\n",
      "Transcript: ラッシュのとき女性専用車両しかないのは不平等だ\n",
      "Confidence: 0.9053735733032227\n",
      "Transcript: 非常識\n",
      "Confidence: 0.9614928364753723\n",
      "Transcript: 夜中3時に電話してくるなんて非常識な人だ\n",
      "Confidence: 0.9358851313591003\n",
      "Transcript: 無責任\n",
      "Confidence: 0.9476232528686523\n",
      "Transcript: 今日までの仕事が終わっていないのに仕事を休むのは無責任だ\n",
      "Confidence: 0.9333395957946777\n",
      "Transcript: 未経験\n",
      "Confidence: 0.9614928364753723\n",
      "Transcript: この仕事は未経験の人も応募できますよ\n",
      "Confidence: 0.9351255893707275\n",
      "Transcript: 逆効果\n",
      "Confidence: 0.9577565789222717\n",
      "Transcript: りんごダイエットをしたら太ってしまい逆効果だった\n",
      "Confidence: 0.9427210092544556\n",
      "Transcript: 好成績\n",
      "Confidence: 0.9224366545677185\n",
      "Transcript: 今年私のチームは今までにないぐらいの好成績を収めた\n",
      "Confidence: 0.9359591007232666\n",
      "Transcript: 高収入\n",
      "Confidence: 0.9463663697242737\n",
      "Transcript: 仕事をするなら高収入の仕事がしたいなー\n",
      "Confidence: 0.9436413049697876\n",
      "Transcript: 最前列\n",
      "Confidence: 0.9614928364753723\n",
      "Transcript: 有名な歌手のコンサートを最前列で見られてラッキーだった\n",
      "Confidence: 0.9440494179725647\n",
      "Transcript: 政治家\n",
      "Confidence: 0.9104916453361511\n",
      "Transcript: 政治家の言うことは信じられない\n",
      "Confidence: 0.9444591403007507\n",
      "Transcript: 技術者\n",
      "Confidence: 0.9475027918815613\n",
      "Transcript: 彼は中国で一番の技術者です\n",
      "Confidence: 0.9486225247383118\n",
      "Transcript: 将来性\n",
      "Confidence: 0.9614928364753723\n",
      "Transcript: この技術は世界から注目されており将来性のある事業だと思う\n",
      "Confidence: 0.9417632222175598\n",
      "Transcript: 現実感\n",
      "Confidence: 0.9191079139709473\n",
      "Transcript: 最近のテレビは綺麗すぎて現実感がない\n",
      "Confidence: 0.932756245136261\n",
      "Transcript: 人生観\n",
      "Confidence: 0.9195330142974854\n",
      "Transcript: インドに旅行に行って人生観がすっかり変わってしまった\n",
      "Confidence: 0.9554376006126404\n",
      "Transcript: 法律上その行為は法律上認めることができないんだよ\n",
      "Confidence: 0.9268874526023865\n",
      "Transcript: 刺激的\n",
      "Confidence: 0.9351585507392883\n",
      "Transcript: 日本での生活は新しいことばかりで刺激的だった\n",
      "Confidence: 0.9506095051765442\n",
      "Transcript: 映画化\n",
      "Confidence: 0.8742861747741699\n",
      "Transcript: この小説は映画化されるらしい\n",
      "Confidence: 0.9614929556846619\n",
      "Transcript: 入学金\n",
      "Confidence: 0.9614928364753723\n",
      "Transcript: 試験に合格したら入学金を支払う必要があります\n",
      "Confidence: 0.9607076048851013\n",
      "Transcript: 授業料\n",
      "Confidence: 0.9614928364753723\n",
      "Transcript: 授業料は今月末までに払ってくださいね\n",
      "Confidence: 0.9501667022705078\n",
      "Transcript: 交通費来月から始めるアルバイトは交通費が出るので嬉しい\n",
      "Confidence: 0.9393083453178406\n",
      "Transcript: 電気代\n",
      "Confidence: 0.9639241695404053\n",
      "Transcript: 今月はクーラーをたくさん使ったので電気代は高いだろう\n",
      "Confidence: 0.9217427372932434\n"
     ]
    }
   ],
   "source": [
    "for result in response.results:\n",
    "    # The first alternative is the most likely one for this portion.\n",
    "    print(u'Transcript: {}'.format(result.alternatives[0].transcript))\n",
    "    print('Confidence: {}'.format(result.alternatives[0].confidence))"
   ]
  },
  {
   "cell_type": "code",
   "execution_count": 6,
   "metadata": {},
   "outputs": [],
   "source": [
    "config = types.RecognitionConfig(\n",
    "    encoding=enums.RecognitionConfig.AudioEncoding.LINEAR16,\n",
    "    sample_rate_hertz=44100,\n",
    "    language_code='ja-JP',\n",
    "    enable_automatic_punctuation=True\n",
    ")\n",
    "\n",
    "operation = client.long_running_recognize(config, audio)\n",
    "response_punctuation = operation.result(timeout=90)"
   ]
  },
  {
   "cell_type": "code",
   "execution_count": 7,
   "metadata": {},
   "outputs": [
    {
     "name": "stdout",
     "output_type": "stream",
     "text": [
      "Transcript: 久しぶりだねもしかしてちょっと痩せたんじゃない気付いた今年に入ってからジムに通い始めたんだえあんなに運動嫌いだったのによく続いてるね去年友達に会うたびに太ったって言われて生活見直そうと思ったんだそうなんだどこのジムに降ってるの今話題のお花事務だよネットで広告見て気になってすぐ入会したんださすが有名なジムだけあって効果も抜群だねそうなんだよしかもリバウンドの確率もすごく低いんだって現に私も体型キープできてるし私も申し込んでみようかな運動の習慣をつけたいって思ってたしやすじゃあ早速これから一緒に行こう\n",
      "Confidence: 0.9468536376953125\n"
     ]
    }
   ],
   "source": [
    "for result in response.results:\n",
    "    # The first alternative is the most likely one for this portion.\n",
    "    print(u'Transcript: {}'.format(result.alternatives[0].transcript))\n",
    "    print('Confidence: {}'.format(result.alternatives[0].confidence))"
   ]
  },
  {
   "cell_type": "code",
   "execution_count": 10,
   "metadata": {},
   "outputs": [],
   "source": [
    "import io\n",
    "import os\n",
    "\n",
    "def transcribe_streaming(stream_file):\n",
    "    \"\"\"Streams transcription of the given audio file.\"\"\"\n",
    "    from google.cloud import speech\n",
    "    from google.cloud.speech import enums\n",
    "    from google.cloud.speech import types\n",
    "    client = speech.SpeechClient()\n",
    "\n",
    "    with io.open(stream_file, 'rb') as audio_file:\n",
    "        content = audio_file.read()\n",
    "\n",
    "    # In practice, stream should be a generator yielding chunks of audio data.\n",
    "    stream = [content]\n",
    "    requests = (types.StreamingRecognizeRequest(audio_content=chunk)\n",
    "                for chunk in stream)\n",
    "\n",
    "    config = types.RecognitionConfig(\n",
    "        encoding=enums.RecognitionConfig.AudioEncoding.LINEAR16,\n",
    "        sample_rate_hertz=44100,\n",
    "        language_code='ja-JP',\n",
    "    )\n",
    "    streaming_config = types.StreamingRecognitionConfig(config=config)\n",
    "\n",
    "    # streaming_recognize returns a generator.\n",
    "    responses = client.streaming_recognize(streaming_config, requests)\n",
    "\n",
    "    for response in responses:\n",
    "        # Once the transcription has settled, the first result will contain the\n",
    "        # is_final result. The other results will be for subsequent portions of\n",
    "        # the audio.\n",
    "        for result in response.results:\n",
    "            print('Finished: {}'.format(result.is_final))\n",
    "            print('Stability: {}'.format(result.stability))\n",
    "            alternatives = result.alternatives\n",
    "            # The alternatives are ordered from most likely to least.\n",
    "            for alternative in alternatives:\n",
    "                print('Confidence: {}'.format(alternative.confidence))\n",
    "                print(u'Transcript: {}'.format(alternative.transcript))"
   ]
  },
  {
   "cell_type": "code",
   "execution_count": 11,
   "metadata": {},
   "outputs": [
    {
     "name": "stdout",
     "output_type": "stream",
     "text": [
      "Finished: True\n",
      "Stability: 0.0\n",
      "Confidence: 0.9468560218811035\n",
      "Transcript: 久しぶりだねもしかしてちょっと痩せたんじゃない気付いた今年に入ってからジムに通い始めたんだえあんなに運動嫌いだったのによく続いてるね去年友達に会うたびに太ったって言われて生活見直そうと思ったんだそうなんだどこのジムに降ってるの今話題のお花事務だよネットで広告見て気になってすぐ入会したんださすが有名なジムだけあって効果も抜群だねそうなんだよしかもリバウンドの確率もすごく低いんだって現に私も体型キープできてるし私も申し込んでみようかな運動の習慣をつけたいって思ってたしやすじゃあ早速これから一緒に行こう\n"
     ]
    }
   ],
   "source": [
    "file_name = '/Users/casbie/Project/Speech2Text/resources/N2_11.wav'\n",
    "transcribe_streaming(file_name)"
   ]
  },
  {
   "cell_type": "code",
   "execution_count": 4,
   "metadata": {},
   "outputs": [],
   "source": [
    "result = response.results[0]"
   ]
  },
  {
   "cell_type": "code",
   "execution_count": 6,
   "metadata": {},
   "outputs": [
    {
     "data": {
      "text/plain": [
       "[]"
      ]
     },
     "execution_count": 6,
     "metadata": {},
     "output_type": "execute_result"
    }
   ],
   "source": [
    "result.alternatives[0].words"
   ]
  },
  {
   "cell_type": "markdown",
   "metadata": {},
   "source": [
    "# Token with punctuation"
   ]
  },
  {
   "cell_type": "code",
   "execution_count": 1,
   "metadata": {},
   "outputs": [],
   "source": [
    "import re\n",
    "import nltk"
   ]
  },
  {
   "cell_type": "code",
   "execution_count": 2,
   "metadata": {},
   "outputs": [],
   "source": [
    "sent_detector = nltk.RegexpTokenizer(u'[^　！？。]*[！？。.\\n]')\n",
    "\n",
    "sents = sent_detector.tokenize(u\"　原子番号９２のウランより重い元素は全て人工的に合成され、１１８番まで発見の報告がある。\\\n",
    "      １１３番については、理研と米露の共同チームがそれぞれ「発見した」と報告し、国際純正・応用化学連合と国際純粋・応用物理学連合の合同作業部会が審査していた。両学会は「データの確実性が高い」ことを理由に、理研の発見を認定し、３１日に森田さんに通知した。未確定だった１１５番と１１７番、１１８番の新元素は米露チームの発見を認めた。森田さんは「周期表に名前が残ることは感慨深い。大勢の共同研究者にまずは感謝したい」と述べた。 \\n\")"
   ]
  },
  {
   "cell_type": "code",
   "execution_count": 4,
   "metadata": {},
   "outputs": [
    {
     "name": "stdout",
     "output_type": "stream",
     "text": [
      "原子番号９２のウランより重い元素は全て人工的に合成され、１１８番まで発見の報告がある。 43\n",
      "      １１３番については、理研と米露の共同チームがそれぞれ「発見した」と報告し、国際純正・応用化学連合と国際純粋・応用物理学連合の合同作業部会が審査していた。 82\n",
      "両学会は「データの確実性が高い」ことを理由に、理研の発見を認定し、３１日に森田さんに通知した。 47\n",
      "未確定だった１１５番と１１７番、１１８番の新元素は米露チームの発見を認めた。 38\n",
      "森田さんは「周期表に名前が残ることは感慨深い。 23\n",
      "大勢の共同研究者にまずは感謝したい」と述べた。 23\n",
      " \n",
      " 2\n"
     ]
    }
   ],
   "source": [
    "for s in sents:\n",
    "    print(s, len(s))"
   ]
  },
  {
   "cell_type": "code",
   "execution_count": null,
   "metadata": {},
   "outputs": [],
   "source": []
  }
 ],
 "metadata": {
  "kernelspec": {
   "display_name": "Python 3",
   "language": "python",
   "name": "python3"
  },
  "language_info": {
   "codemirror_mode": {
    "name": "ipython",
    "version": 3
   },
   "file_extension": ".py",
   "mimetype": "text/x-python",
   "name": "python",
   "nbconvert_exporter": "python",
   "pygments_lexer": "ipython3",
   "version": "3.5.1"
  }
 },
 "nbformat": 4,
 "nbformat_minor": 2
}
